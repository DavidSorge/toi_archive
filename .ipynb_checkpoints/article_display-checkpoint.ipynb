{
 "cells": [
  {
   "cell_type": "markdown",
   "metadata": {},
   "source": [
    "# Times of India Article Display Interface"
   ]
  },
  {
   "cell_type": "code",
   "execution_count": 1,
   "metadata": {},
   "outputs": [],
   "source": [
    "from toidisplay import display_requested_articles, load_metadata\n",
    "import pandas as pd"
   ]
  },
  {
   "cell_type": "markdown",
   "metadata": {},
   "source": [
    "## Define custom functions:\n",
    "\n",
    "If you have a list or custom script to output a list of articles, a custom input function to run after display of each article (say, a coding assignment), or  "
   ]
  },
  {
   "cell_type": "code",
   "execution_count": 2,
   "metadata": {},
   "outputs": [],
   "source": [
    "# Add list-defining function here:\n",
    "\n",
    "def get_display_list():\n",
    "    \n",
    "    if 'second_opinion_df' not in globals():\n",
    "        global second_opinion_df\n",
    "        second_opinion_df = pd.read_csv('../pogrep/temp/second_opinion.csv', dtype={'second_opinion':'Bool'}, index_col=0)\n",
    "    \n",
    "    if 'second_opinion' not in globals():\n",
    "        global second_opinion\n",
    "        second_opinion = second_opinion_df.second_opinion.to_dict()\n",
    "\n",
    "    # read in the training data\n",
    "    global working_set\n",
    "    working_set = pd.read_csv('working_set.csv', index_col='record_id')\n",
    "    mixed_opinions_list = working_set[working_set.is_pogrom_related != working_set.second_opinion].index.tolist()\n",
    "\n",
    "    # read in the second_opinion work so far\n",
    "\n",
    "    request_list = list(set(mixed_opinions_list) - set(second_opinion_df.index.tolist()))\n",
    "    \n",
    "    return request_list\n",
    "\n"
   ]
  },
  {
   "cell_type": "markdown",
   "metadata": {},
   "source": [
    "## Define Input and Save functions (Optional)\n",
    "If you would like to have a custom input function run after display (say, a coding assignment), and if you would like to save the results of the input function, add them in the cell below. Define them as linked_function() and save_function() respectively. If linked_function remains undefined, the page will default to a \"Press enter to continue\" dialog box with no save function."
   ]
  },
  {
   "cell_type": "code",
   "execution_count": 3,
   "metadata": {},
   "outputs": [],
   "source": [
    "def linked_function(article):\n",
    "    global working_set\n",
    "    display(working_set.loc[article])\n",
    "    \n",
    "    new_judgment = ''\n",
    "    while type(new_judgment) != bool:\n",
    "        new_judgment = input(\"Is this a pogrom narrative? (y or 1 = Yes, n or 0 = No)\")\n",
    "        if new_judgment == 'y' or new_judgment == '1':\n",
    "            new_judgment = True\n",
    "        elif new_judgment == 'n' or new_judgment == '0':\n",
    "            new_judgment = False\n",
    "        else:\n",
    "            print(\"I'm not sure how to interpret that.\")\n",
    "    second_opinion.update({int(article):new_judgment})\n",
    "    \n",
    "def save_function():  \n",
    "    opinion = {'second_opinion': second_opinion}\n",
    "    global second_opinion_df\n",
    "    second_opinion_df = pd.DataFrame(opinion)\n",
    "    second_opinion_df.to_csv('../pogrep/temp/second_opinion.csv')"
   ]
  },
  {
   "cell_type": "markdown",
   "metadata": {},
   "source": [
    "## Display Articles"
   ]
  },
  {
   "cell_type": "code",
   "execution_count": 4,
   "metadata": {},
   "outputs": [
    {
     "name": "stdout",
     "output_type": "stream",
     "text": [
      "changes saved!\n",
      "All requested articles displayed!\n"
     ]
    }
   ],
   "source": [
    "display_requested_articles(display_list=get_display_list(), linked_function=linked_function, save_function=save_function)"
   ]
  },
  {
   "cell_type": "code",
   "execution_count": null,
   "metadata": {},
   "outputs": [],
   "source": [
    "second_opinion_df.second_opinion.value_counts()"
   ]
  }
 ],
 "metadata": {
  "kernelspec": {
   "display_name": "Python 3",
   "language": "python",
   "name": "python3"
  },
  "language_info": {
   "codemirror_mode": {
    "name": "ipython",
    "version": 3
   },
   "file_extension": ".py",
   "mimetype": "text/x-python",
   "name": "python",
   "nbconvert_exporter": "python",
   "pygments_lexer": "ipython3",
   "version": "3.7.7"
  }
 },
 "nbformat": 4,
 "nbformat_minor": 4
}
