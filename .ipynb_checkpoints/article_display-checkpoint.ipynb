{
 "cells": [
  {
   "cell_type": "markdown",
   "metadata": {},
   "source": [
    "To begin, select \"run\" > \"run all cells\" above"
   ]
  },
  {
   "cell_type": "code",
   "execution_count": 1,
   "metadata": {
    "jupyter": {
     "source_hidden": true
    }
   },
   "outputs": [
    {
     "name": "stdout",
     "output_type": "stream",
     "text": [
      "Loading...\n",
      "done \n",
      "\n"
     ]
    }
   ],
   "source": [
    "print('Loading...')\n",
    "import os, zipfile, pathlib, shutil\n",
    "import pandas as pd\n",
    "import regex as re\n",
    "from IPython.display import clear_output\n",
    "from IPython.display import IFrame\n",
    "import zipp\n",
    "\n",
    "def empty(folder):\n",
    "    for filename in os.listdir(folder):\n",
    "        file_path = os.path.join(folder, filename)\n",
    "        try:\n",
    "            if os.path.isfile(file_path) or os.path.islink(file_path):\n",
    "                os.unlink(file_path)\n",
    "            elif os.path.isdir(file_path):\n",
    "                shutil.rmtree(file_path)\n",
    "        except Exception as e:\n",
    "            print('Failed to delete %s. Reason: %s' % (file_path, e))\n",
    "\n",
    "with zipfile.ZipFile(os.path.join('TOI_metadata.zip')) as zf:\n",
    "    with zf.open('TOI_metadata.csv') as file:\n",
    "        metadata = pd.read_csv(file, usecols=['record_id', \n",
    "                                              'pub_date', \n",
    "                                              'txt_zip', \n",
    "                                              'txt_file',\n",
    "                                              'pdf_zip',\n",
    "                                              'pdf_file',\n",
    "                                              'objecttypes'], dtype='object').set_index('record_id')\n",
    "print('done \\n')"
   ]
  },
  {
   "cell_type": "code",
   "execution_count": 2,
   "metadata": {
    "jupyter": {
     "source_hidden": true
    }
   },
   "outputs": [
    {
     "name": "stdin",
     "output_type": "stream",
     "text": [
      "What article IDs shall I look up for you? 613960893,609242997,744335703\n"
     ]
    }
   ],
   "source": [
    "request = input(\"What article IDs shall I look up for you?\")"
   ]
  },
  {
   "cell_type": "code",
   "execution_count": 3,
   "metadata": {
    "jupyter": {
     "source_hidden": true
    }
   },
   "outputs": [],
   "source": [
    "wanted_articles = []\n",
    "request = re.split(\" |,|;\", request)\n",
    "for article in request:\n",
    "    clean_art = article.strip()\n",
    "    wanted_articles.append(clean_art)\n",
    "\n",
    "df = metadata.loc[wanted_articles]\n",
    "\n",
    "zips_to_open = df.pdf_zip.unique().tolist()\n",
    "\n",
    "for zip_file in zips_to_open:\n",
    "    \n",
    "    files_to_extract = df[df['pdf_zip'] == zip_file].pdf_file.unique().tolist()   \n",
    "    \n",
    "    with zipfile.ZipFile(os.path.join('PDF', zip_file)) as zf: \n",
    "        \n",
    "        for file in files_to_extract:\n",
    "            zf.extract(file, path=\"temp\")\n",
    "\n",
    "n = 0\n",
    "for article in wanted_articles:\n",
    "    n+=1\n",
    "    print(f\"Here's article {n} of {len(wanted_articles)}:\")\n",
    "    \n",
    "    pdf_file = metadata.at[article, 'pdf_file']\n",
    "    pdf_file = os.path.join(\"temp\", pdf_file)\n",
    "    \n",
    "    display(IFrame(src=pdf_file, width='100%', height='700px'))\n",
    "    \n",
    "    pub_date = metadata.at[article, 'pub_date']\n",
    "    objecttypes = metadata.at[article, 'objecttypes']\n",
    "    objecttypes = objecttypes.split(';')\n",
    "    \n",
    "    txt_zip = metadata.at[article, 'txt_zip']\n",
    "    txt_file = metadata.at[article, 'txt_file']\n",
    "    \n",
    "    txt_zip = os.path.join('TXT', txt_zip)\n",
    "    \n",
    "    with zipfile.ZipFile(txt_zip) as zf:\n",
    "        with zf.open(txt_file) as f:\n",
    "            text = f.read()\n",
    "    \n",
    "    print(f'Article ID: {article} /t Published: {pub_date}')\n",
    "    print('Object Types:')\n",
    "    for obj in objecttypes:\n",
    "        print('\\t', obj)\n",
    "    \n",
    "    \n",
    "    print('Article text:', '\\n\\n', text, '\\n')\n",
    "    \n",
    "    foobar = input('Press enter to continue...')\n",
    "    clear_output()\n",
    "\n",
    "empty(\"temp\")"
   ]
  },
  {
   "cell_type": "code",
   "execution_count": null,
   "metadata": {},
   "outputs": [],
   "source": []
  }
 ],
 "metadata": {
  "kernelspec": {
   "display_name": "Python 3",
   "language": "python",
   "name": "python3"
  },
  "language_info": {
   "codemirror_mode": {
    "name": "ipython",
    "version": 3
   },
   "file_extension": ".py",
   "mimetype": "text/x-python",
   "name": "python",
   "nbconvert_exporter": "python",
   "pygments_lexer": "ipython3",
   "version": "3.7.7"
  }
 },
 "nbformat": 4,
 "nbformat_minor": 4
}
