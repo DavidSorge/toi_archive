{
 "cells": [
  {
   "cell_type": "markdown",
   "metadata": {},
   "source": [
    "# Times of India Article Display Interface"
   ]
  },
  {
   "cell_type": "code",
   "execution_count": 1,
   "metadata": {},
   "outputs": [],
   "source": [
    "from toidisplay import display_requested_articles, load_metadata\n",
    "import pandas as pd"
   ]
  },
  {
   "cell_type": "markdown",
   "metadata": {},
   "source": [
    "## Define custom functions:\n",
    "\n",
    "If you have a list or custom script to output a list of articles, a custom input function to run after display of each article (say, a coding assignment), or  "
   ]
  },
  {
   "cell_type": "code",
   "execution_count": 5,
   "metadata": {},
   "outputs": [],
   "source": [
    "# Add list-defining function here:  \n",
    "# The provided sample takes an input list, an output list, and outputs a list of articles in the input list but not in the output list\n",
    "\n",
    "def get_display_list():\n",
    "    \n",
    "    if 'article_categorization_df' not in globals():\n",
    "        global article_categorization_df\n",
    "        article_categorization_df = pd.read_csv('sample_output.csv', dtype={'is_in_category':'Bool'}, index_col=0)\n",
    "    \n",
    "    if 'article_categorization' not in globals():\n",
    "        global article_categorization\n",
    "        article_categorization = article_categorization_df.is_in_category.to_dict()\n",
    "\n",
    "    # read in the training data\n",

    "    input_data = pd.read_csv('sample_input.csv', dtype='object', index_col='record_id')\n",
    "\n",
    "    # read in the categorization done so far\n",
    "    request_list = list(set(input_data.index.tolist()) - set(article_categorization_df.index.tolist()))\n",
    "    \n",
    "    return request_list\n",
    "\n"
   ]
  },
  {
   "cell_type": "markdown",
   "metadata": {},
   "source": [
    "## Define Input and Save functions (Optional)\n",
    "If you would like to have a custom input function run after display (say, a coding assignment), and if you would like to save the results of the input function, add them in the cell below. Define them as linked_function() and save_function() respectively. If linked_function remains undefined, the page will default to a \"Press enter to continue\" dialog box with no save function."
   ]
  },
  {
   "cell_type": "code",
   "execution_count": 8,
   "metadata": {},
   "outputs": [],
   "source": [
    "# The provided samples ask for a binary classification of an article, and save the output to the sample_output file \n",
    "\n",
    "\n",
    "def linked_function(article):\n",
    "    global working_set\n",
    "    display(working_set.loc[article])\n",
    "    \n",
    "    category_judgment = ''\n",
    "    while type(category_judgment) != bool:\n",
    "        category_judgment = input(\"Does this article fit the category? (y or 1 = Yes, n or 0 = No)\")\n",
    "        if category_judgment == 'y' or category_judgment == '1':\n",
    "            category_judgment = True\n",
    "        elif category_judgment == 'n' or category_judgment == '0':\n",
    "            category_judgment = False\n",
    "        else:\n",
    "            print(\"I'm not sure how to interpret that.\")\n",
    "    article_categorization.update({int(article):category_judgment})\n",
    "    \n",
    "def save_function():  \n",
    "    categorization_series = {'is_in_category': article_categorization}\n",
    "    global article_categorization_df\n",
    "    article_categorization_df = pd.DataFrame(categorization_series)\n",
    "    article_categorization_df.to_csv('sample_output.csv')"
   ]
  },
  {
   "cell_type": "markdown",
   "metadata": {},
   "source": [
    "## Display Articles"
   ]
  },
  {
   "cell_type": "code",
   "execution_count": 9,
   "metadata": {},
   "outputs": [
    {
     "name": "stdout",
     "output_type": "stream",
     "text": [
     "changes saved!\n"
     ]
    },
    {
     "name": "stdin",
     "output_type": "stream",
     "text": [
      "Enter 1 to continue, or 0 to exit: 0\n"
     ]
    }
   ],
   "source": [
    "display_requested_articles(display_list=get_display_list(), linked_function=linked_function, save_function=save_function)"
   ]
  },
  {
   "cell_type": "code",
   "execution_count": null,
   "metadata": {},
   "outputs": [],
   "source": []
  }
 ],
 "metadata": {
  "kernelspec": {
   "display_name": "Python 3",
   "language": "python",
   "name": "python3"
  },
  "language_info": {
   "codemirror_mode": {
    "name": "ipython",
    "version": 3
   },
   "file_extension": ".py",
   "mimetype": "text/x-python",
   "name": "python",
   "nbconvert_exporter": "python",
   "pygments_lexer": "ipython3",
   "version": "3.7.7"
  }
 },
 "nbformat": 4,
 "nbformat_minor": 4
}
