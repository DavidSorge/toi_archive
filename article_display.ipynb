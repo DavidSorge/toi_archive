{
 "cells": [
  {
   "cell_type": "markdown",
   "metadata": {},
   "source": [
    "# Times of India Article Display Interface"
   ]
  },
  {
   "cell_type": "code",
   "execution_count": 1,
   "metadata": {},
   "outputs": [],
   "source": [
    "from toidisplay import display_requested_articles, load_metadata\n",
    "import pandas as pd"
   ]
  },
  {
   "cell_type": "markdown",
   "metadata": {},
   "source": [
    "## Define custom functions:\n",
    "\n",
    "If you have a list or custom script to output a list of articles, a custom input function to run after display of each article (say, a coding assignment), or  "
   ]
  },
  {
   "cell_type": "code",
   "execution_count": 6,
   "metadata": {},
   "outputs": [],
   "source": [
    "# Add list-defining function here:\n",
    "\n",
    "def get_display_list():\n",
    "  \n",
    "    # read in the training data\n",
    "    td = pd.read_csv('../pogrep/training_data.csv', dtype='object', index_col='record_id')\n",
    "\n",
    "    # read in the second_opinion work so far\n",
    "    second_opinion_df = pd.read_csv('../pogrep/temp/second_opinion.csv', dtype='object', index_col=0)\n",
    "    second_opinion = second_opinion_df.second_opinion.to_dict()\n",
    "\n",
    "    request_list = list(set(td.index.tolist()) - set(second_opinion_df.index.tolist()))\n",
    "    \n",
    "    return request_list"
   ]
  },
  {
   "cell_type": "markdown",
   "metadata": {},
   "source": [
    "## Define Input and Save functions (Optional)\n",
    "If you would like to have a custom input function run after display (say, a coding assignment), and if you would like to save the results of the input function, add them in the cell below. Define them as linked_function() and save_function() respectively. If linked_function remains undefined, the page will default to a \"Press enter to continue\" dialog box with no save function."
   ]
  },
  {
   "cell_type": "code",
   "execution_count": 5,
   "metadata": {},
   "outputs": [],
   "source": [
    "def linked_function(article):\n",
    "    if 'second_opinion' not in globals():\n",
    "        global second_opinion\n",
    "        second_opinion_df = pd.read_csv('../pogrep/temp/second_opinion.csv', dtype='object', index_col=0)\n",
    "        second_opinion = second_opinion_df.second_opinion.to_dict()\n",
    "    \n",
    "    new_judgment = ''\n",
    "    while type(new_judgment) != bool:\n",
    "        new_judgment = input(\"Is this a pogrom narrative? (y or 1 = Yes, n or 0 = No)\")\n",
    "        if new_judgment == 'y' or '1':\n",
    "            new_judgment = True\n",
    "        elif new_judgment == 'n' or '0':\n",
    "            new_judgment = False\n",
    "        else:\n",
    "            print(\"I'm not sure how to interpret that.\")\n",
    "\n",
    "    second_opinion.update({int(article):str(new_judgment)})\n",
    "    \n",
    "def save_function():  \n",
    "    opinion = {'second_opinion': second_opinion}\n",
    "    pd.DataFrame(opinion).to_csv('../pogrep/temp/second_opinion.csv')\n",
    "    # Note: to load the newly completed segment, you'll need to drop '\\_new' from the new file, and replace the old one. For safety, this should be done manually."
   ]
  },
  {
   "cell_type": "markdown",
   "metadata": {},
   "source": [
    "## Display Articles"
   ]
  },
  {
   "cell_type": "code",
   "execution_count": null,
   "metadata": {},
   "outputs": [
    {
     "name": "stdout",
     "output_type": "stream",
     "text": [
      "Unpacking requested pdfs...\n",
      "Done!\n",
      "Here's article 1 of 15, in set 1 of 109:\n"
     ]
    },
    {
     "data": {
      "text/html": [
       "\n",
       "        <iframe\n",
       "            width=\"100%\"\n",
       "            height=\"700px\"\n",
       "            src=\"temp/54644/1986_8/54644_19860720_613495028.pdf\"\n",
       "            frameborder=\"0\"\n",
       "            allowfullscreen\n",
       "        ></iframe>\n",
       "        "
      ],
      "text/plain": [
       "<IPython.lib.display.IFrame at 0x2aaadcb286d0>"
      ]
     },
     "metadata": {},
     "output_type": "display_data"
    },
    {
     "name": "stdout",
     "output_type": "stream",
     "text": [
      "Article ID: 613495028 \t Published: 1986-07-20\n",
      "Object Types:\t feature, article\n"
     ]
    }
   ],
   "source": [
    "display_requested_articles(display_list=get_display_list, linked_function=linked_function, save_function=save_function)"
   ]
  },
  {
   "cell_type": "code",
   "execution_count": null,
   "metadata": {},
   "outputs": [],
   "source": []
  }
 ],
 "metadata": {
  "kernelspec": {
   "display_name": "Python 3",
   "language": "python",
   "name": "python3"
  },
  "language_info": {
   "codemirror_mode": {
    "name": "ipython",
    "version": 3
   },
   "file_extension": ".py",
   "mimetype": "text/x-python",
   "name": "python",
   "nbconvert_exporter": "python",
   "pygments_lexer": "ipython3",
   "version": "3.7.7"
  }
 },
 "nbformat": 4,
 "nbformat_minor": 4
}
