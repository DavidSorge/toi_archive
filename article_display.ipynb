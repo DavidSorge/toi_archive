{
 "cells": [
  {
   "cell_type": "markdown",
   "metadata": {},
   "source": [
    "# Times of India Article Display Interface"
   ]
  },
  {
   "cell_type": "code",
   "execution_count": 1,
   "metadata": {},
   "outputs": [],
   "source": [
    "from toidisplay import display_requested_articles, load_metadata, binary_categorize\n",
    "import pandas as pd"
   ]
  },
  {
   "cell_type": "code",
   "execution_count": 2,
   "metadata": {},
   "outputs": [],
   "source": [
    "# Add list-defining function here:\n",
    "\n",
    "input_list = pd.read_csv('sample_input.csv', index_col=0).index.to_list()[:6]\n",
    "output_csv = 'sample_output.csv'"
   ]
  },
  {
   "cell_type": "markdown",
   "metadata": {},
   "source": [
    "## Display Articles"
   ]
  },
  {
   "cell_type": "code",
   "execution_count": 3,
   "metadata": {
    "tags": []
   },
   "outputs": [
    {
     "output_type": "stream",
     "name": "stdout",
     "text": "Progress saved.\nAll requested articles displayed!\n"
    }
   ],
   "source": [
    "display_requested_articles(display_list=input_list, input_function=binary_categorize, chunk_size=3, append_mode=True, save_location=output_csv)"
   ]
  }
 ],
 "metadata": {
  "kernelspec": {
   "display_name": "Python 3.7.7 64-bit ('repertoire': conda)",
   "language": "python",
   "name": "python37764bitrepertoireconda6217c8bd1d0f44108abc8e0d8f958b61"
  },
  "language_info": {
   "codemirror_mode": {
    "name": "ipython",
    "version": 3
   },
   "file_extension": ".py",
   "mimetype": "text/x-python",
   "name": "python",
   "nbconvert_exporter": "python",
   "pygments_lexer": "ipython3",
   "version": "3.7.7-final"
  }
 },
 "nbformat": 4,
 "nbformat_minor": 4
}