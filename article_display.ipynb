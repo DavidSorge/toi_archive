{
 "cells": [
  {
   "cell_type": "markdown",
   "metadata": {},
   "source": [
    "## Setup:\n",
    "\n",
    "To setup the lookup page, run the cell below."
   ]
  },
  {
   "cell_type": "code",
   "execution_count": 1,
   "metadata": {
    "jupyter": {
     "source_hidden": true
    }
   },
   "outputs": [
    {
     "name": "stdout",
     "output_type": "stream",
     "text": [
      "Loading...\n",
      "done \n",
      "\n"
     ]
    }
   ],
   "source": [
    "print('Loading...')\n",
    "\n",
    "# Imports\n",
    "import os, zipfile, pathlib, shutil\n",
    "import pandas as pd\n",
    "import regex as re\n",
    "from IPython.display import clear_output\n",
    "from IPython.display import IFrame\n",
    "import zipp\n",
    "\n",
    "# Definitions\n",
    "\n",
    "def empty(folder):\n",
    "    for filename in os.listdir(folder):\n",
    "        file_path = os.path.join(folder, filename)\n",
    "        try:\n",
    "            if os.path.isfile(file_path) or os.path.islink(file_path):\n",
    "                os.unlink(file_path)\n",
    "            elif os.path.isdir(file_path):\n",
    "                shutil.rmtree(file_path)\n",
    "        except Exception as e:\n",
    "            print('Failed to delete %s. Reason: %s' % (file_path, e))\n",
    "\n",
    "def sanitize(request_list):\n",
    "    wanted_articles = []\n",
    "    unrecognized_articles = []\n",
    "\n",
    "    for article in request_list:\n",
    "        clean_art = str(article).strip()\n",
    "        if clean_art in all_articles:\n",
    "            wanted_articles.append(clean_art)\n",
    "        elif clean_art == '':\n",
    "            pass\n",
    "        else: \n",
    "            unrecognized_articles.append(clean_art)\n",
    "    \n",
    "    if len(unrecognized_articles) > 0:\n",
    "        print(\"The following entries were not recognized as articles:\")\n",
    "        [print(repr(x)) for x in unrecognized_articles]\n",
    "    return(wanted_articles)\n",
    "\n",
    "def is_list(request_list):\n",
    "    try:\n",
    "        assert type(request_list) == list\n",
    "        return(True)\n",
    "    except NameError:\n",
    "        request_list = []\n",
    "        return(False)\n",
    "    except AssertionError:\n",
    "        \"Please make sure your input is a list and try again.\"\n",
    "        return(False)\n",
    "    \n",
    "def request_input():\n",
    "    request = input(\"What article IDs shall I look up for you?\")\n",
    "    request_list = re.split(\",|;| \", request)\n",
    "    clear_output()\n",
    "    return(request_list)\n",
    "\n",
    "def unpack_pdfs(request_list, metadata):\n",
    "    print(\"Unpacking requested pdfs...\")\n",
    "\n",
    "    df = metadata.loc[request_list]\n",
    "    zips_to_open = df.pdf_zip.unique().tolist()\n",
    "\n",
    "    for zip_file in zips_to_open:\n",
    "\n",
    "        files_to_extract = df[df['pdf_zip'] == zip_file].pdf_file.unique().tolist()   \n",
    "\n",
    "        with zipfile.ZipFile(os.path.join('PDF', zip_file)) as zf: \n",
    "\n",
    "            for file in files_to_extract:\n",
    "                zf.extract(file, path=\"temp\")\n",
    "    print(\"Done!\")\n",
    "\n",
    "def display_article(metadata, article):\n",
    "    \n",
    "    pdf_file = metadata.at[article, 'pdf_file']\n",
    "    pdf_file = os.path.join(\"temp\", pdf_file)\n",
    "    \n",
    "    display(IFrame(src=pdf_file, width='100%', height='700px'))\n",
    "    \n",
    "    pub_date = metadata.at[article, 'pub_date']\n",
    "    objecttypes = metadata.at[article, 'objecttypes']\n",
    "    objecttypes = objecttypes.split(';')\n",
    "    \n",
    "    txt_zip = metadata.at[article, 'txt_zip']\n",
    "    txt_file = metadata.at[article, 'txt_file']\n",
    "    \n",
    "    txt_zip = os.path.join('TXT', txt_zip)\n",
    "    \n",
    "    with zipfile.ZipFile(txt_zip) as zf:\n",
    "        with zf.open(txt_file) as f:\n",
    "            text = f.read()\n",
    "    \n",
    "    print(f'Article ID: {article} \\t Published: {pub_date}')\n",
    "    print('Object Types:\\t', ', '.join(objecttypes))\n",
    "    \n",
    "    \n",
    "#     print('Article text:', '\\n\\n', text, '\\n')\n",
    "    \n",
    "    try:\n",
    "        linked_function(article)\n",
    "    except:\n",
    "        foobar = input('Press enter to continue...')\n",
    "    \n",
    "    clear_output()\n",
    "    \n",
    "def display_requested_articles(wanted_articles, metadata):\n",
    "    \n",
    "    n = 0\n",
    "    for article in wanted_articles:\n",
    "        n+=1\n",
    "        print(f\"Here's article {n} of {len(wanted_articles)}:\")\n",
    "        display_article(metadata, article)\n",
    "\n",
    "    empty(\"temp\")\n",
    "\n",
    "def process(request_list):   \n",
    "    if is_list(request_list):  \n",
    "        if request_list == []:\n",
    "            request_list = sanitize(request_input())\n",
    "        else:\n",
    "            request_list = sanitize(request_list)\n",
    "    return request_list\n",
    "\n",
    "# Import Data Index\n",
    "    \n",
    "with zipfile.ZipFile(os.path.join('TOI_metadata.zip')) as zf:\n",
    "    with zf.open('TOI_metadata.csv') as file:\n",
    "        metadata = pd.read_csv(file, usecols=['record_id', \n",
    "                                              'pub_date', \n",
    "                                              'txt_zip', \n",
    "                                              'txt_file',\n",
    "                                              'pdf_zip',\n",
    "                                              'pdf_file',\n",
    "                                              'objecttypes'], dtype='object').set_index('record_id')\n",
    "\n",
    "all_articles = set(metadata.index)\n",
    "\n",
    "print('done \\n')"
   ]
  },
  {
   "cell_type": "markdown",
   "metadata": {},
   "source": [
    "## Define Articles to display\n",
    "\n",
    "If you have a list or custom script to output a list of articles, you can add it in the cell below. Otherwise the next cell will prompt for manual input.\n"
   ]
  },
  {
   "cell_type": "code",
   "execution_count": 2,
   "metadata": {},
   "outputs": [],
   "source": [
    "# Add list-defining function here:\n",
    "\n",
    "# read in the training data\n",
    "td = pd.read_csv('../pogrep/training_data.csv', dtype='object', index_col='record_id')\n",
    "\n",
    "# read in the second_opinion work so far\n",
    "second_opinion_df = pd.read_csv('../pogrep/temp/second_opinion.csv', dtype='object', index_col=0)\n",
    "second_opinion = second_opinion_df.second_opinion.to_dict()\n",
    "\n",
    "request_list = list(set(td.index.tolist()) - set(second_opinion_df.index.tolist()))"
   ]
  },
  {
   "cell_type": "code",
   "execution_count": 3,
   "metadata": {},
   "outputs": [],
   "source": [
    "request_list = process(request_list)"
   ]
  },
  {
   "cell_type": "markdown",
   "metadata": {},
   "source": [
    "## Unpacking the pdfs"
   ]
  },
  {
   "cell_type": "code",
   "execution_count": 4,
   "metadata": {},
   "outputs": [
    {
     "name": "stdout",
     "output_type": "stream",
     "text": [
      "Unpacking requested pdfs...\n",
      "Done!\n"
     ]
    }
   ],
   "source": [
    "unpack_pdfs(request_list, metadata)"
   ]
  },
  {
   "cell_type": "markdown",
   "metadata": {},
   "source": [
    "## Define an Input Function (Optional)\n",
    "If you would like to have a custom input function run after display (say, a coding assignment), add it in the cell below, and use linked_function to run it. If linked_function remains undefined, the page will defaultto a \"Press enter to continue\" dialog box."
   ]
  },
  {
   "cell_type": "code",
   "execution_count": 5,
   "metadata": {},
   "outputs": [],
   "source": [
    "def linked_function(article):\n",
    "    new_judgment = ''\n",
    "    while type(new_judgment) != bool:\n",
    "        new_judgment = input(\"Is this a pogrom narrative? (y or 1 = Yes, n or 0 = No)\")\n",
    "        if new_judgment == 'y' or '1':\n",
    "            new_judgment = True\n",
    "        elif new_judgment == 'n' or '0':\n",
    "            new_judgment = False\n",
    "        else:\n",
    "            print(\"I'm not sure how to interpret that.\")\n",
    "\n",
    "    second_opinion.update({int(article):str(new_judgment)})"
   ]
  },
  {
   "cell_type": "markdown",
   "metadata": {},
   "source": [
    "## Display Articles"
   ]
  },
  {
   "cell_type": "code",
   "execution_count": null,
   "metadata": {},
   "outputs": [
    {
     "name": "stdout",
     "output_type": "stream",
     "text": [
      "Here's article 2 of 1688:\n"
     ]
    },
    {
     "data": {
      "text/html": [
       "\n",
       "        <iframe\n",
       "            width=\"100%\"\n",
       "            height=\"700px\"\n",
       "            src=\"temp/54644/1986_9/54644_19860727_613498968.pdf\"\n",
       "            frameborder=\"0\"\n",
       "            allowfullscreen\n",
       "        ></iframe>\n",
       "        "
      ],
      "text/plain": [
       "<IPython.lib.display.IFrame at 0x2aaadca9cfd0>"
      ]
     },
     "metadata": {},
     "output_type": "display_data"
    },
    {
     "name": "stdout",
     "output_type": "stream",
     "text": [
      "Article ID: 613498968 \t Published: 1986-07-27\n",
      "Object Types:\t feature, article\n"
     ]
    },
    {
     "name": "stdin",
     "output_type": "stream",
     "text": [
      "Is this a pogrom narrative? (y or 1 = Yes, n or 0 = No) 0\n"
     ]
    }
   ],
   "source": [
    "display_requested_articles(request_list, metadata)"
   ]
  },
  {
   "cell_type": "code",
   "execution_count": null,
   "metadata": {},
   "outputs": [],
   "source": [
    "opinion = {'second_opinion': second_opinion}\n",
    "pd.DataFrame(opinion).to_csv('../pogrep/temp/second_opinion_new.csv')"
   ]
  },
  {
   "cell_type": "markdown",
   "metadata": {},
   "source": [
    "Note: to load the newly completed segment, you'll need to drop '\\_new' from the new file, and replace the old one. For safety, this should be done manually."
   ]
  }
 ],
 "metadata": {
  "kernelspec": {
   "display_name": "Python 3",
   "language": "python",
   "name": "python3"
  },
  "language_info": {
   "codemirror_mode": {
    "name": "ipython",
    "version": 3
   },
   "file_extension": ".py",
   "mimetype": "text/x-python",
   "name": "python",
   "nbconvert_exporter": "python",
   "pygments_lexer": "ipython3",
   "version": "3.7.7"
  }
 },
 "nbformat": 4,
 "nbformat_minor": 4
}
