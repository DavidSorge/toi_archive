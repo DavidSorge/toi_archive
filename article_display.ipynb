{
 "cells": [
  {
   "cell_type": "markdown",
   "metadata": {},
   "source": [
    "# Times of India Article Display Interface"
   ]
  },
  {
   "cell_type": "code",
   "execution_count": 1,
   "metadata": {},
   "outputs": [],
   "source": [
    "from toidisplay import display_requested_articles, load_metadata\n",
    "import pandas as pd"
   ]
  },
  {
   "cell_type": "markdown",
   "metadata": {},
   "source": [
    "## Define Input functions:\n",
    "\n",
    "If you have a list or custom script to output a list of articles, a custom input function to run after display of each article (say, a coding assignment), or  "
   ]
  },
  {
   "cell_type": "code",
   "execution_count": 2,
   "metadata": {},
   "outputs": [],
   "source": [
    "# Add list-defining function here:  \n",
    "# The provided sample takes an input csv, an output csv, and outputs a list of articles in the input list but not in the output list\n",
    "\n",
    "input_list = pd.read_csv('sample_input.csv', index_col=0).index.to_list()\n",
    "output_csv = 'article_output.csv'"
   ]
  },
  {
   "cell_type": "markdown",
   "metadata": {},
   "source": [
    "## Define Input and Save functions (Optional)\n",
    "If you would like to have a custom input function run after display (say, a coding assignment), and if you would like to save the results of the input function, add them in the cell below. Define them as linked_function() and save_function() respectively. If linked_function remains undefined, the page will default to a \"Press enter to continue\" dialog box with no save function."
   ]
  },
  {
   "cell_type": "code",
   "execution_count": 3,
   "metadata": {},
   "outputs": [],
   "source": [
    "# The provided samples ask for a binary classification of an article, and save the output to the sample_output file \n",
    "\n",
    "\n",
    "def binary_categorize(article):\n",
    "    \n",
    "    category_judgment = ''\n",
    "    while type(category_judgment) != bool:\n",
    "        category_judgment = input(\"Does this article fit the category? (y or 1 = Yes, n or 0 = No)\")\n",
    "        if category_judgment == 'y' or category_judgment == '1':\n",
    "            category_judgment = True\n",
    "        elif category_judgment == 'n' or category_judgment == '0':\n",
    "            category_judgment = False\n",
    "        else:\n",
    "            print(\"I'm not sure how to interpret that.\")\n",
    "    \n",
    "    return category_judgment\n",
    "    \n",
    "save_location = 'sample_output.csv'"
   ]
  },
  {
   "cell_type": "markdown",
   "metadata": {},
   "source": [
    "## Display Articles"
   ]
  },
  {
   "cell_type": "code",
   "execution_count": 4,
   "metadata": {},
   "outputs": [
    {
     "name": "stdout",
     "output_type": "stream",
     "text": [
      "Loading TOI metadata...\n"
     ]
    },
    {
     "data": {
      "application/vnd.jupyter.widget-view+json": {
       "model_id": "decc69e07d624a9f8f67a92dae8a36b8",
       "version_major": 2,
       "version_minor": 0
      },
      "text/plain": [
       "HBox(children=(FloatProgress(value=0.0, max=1000.0), HTML(value='')))"
      ]
     },
     "metadata": {},
     "output_type": "display_data"
    },
    {
     "name": "stdout",
     "output_type": "stream",
     "text": [
      "\n"
     ]
    },
    {
     "ename": "KeyboardInterrupt",
     "evalue": "",
     "output_type": "error",
     "traceback": [
      "\u001b[0;31m---------------------------------------------------------------------------\u001b[0m",
      "\u001b[0;31mKeyboardInterrupt\u001b[0m                         Traceback (most recent call last)",
      "\u001b[0;32m<ipython-input-4-a835b7a907e6>\u001b[0m in \u001b[0;36m<module>\u001b[0;34m\u001b[0m\n\u001b[0;32m----> 1\u001b[0;31m \u001b[0mdisplay_requested_articles\u001b[0m\u001b[0;34m(\u001b[0m\u001b[0mdisplay_list\u001b[0m\u001b[0;34m=\u001b[0m\u001b[0minput_list\u001b[0m\u001b[0;34m,\u001b[0m \u001b[0mlinked_function\u001b[0m\u001b[0;34m=\u001b[0m\u001b[0mbinary_categorize\u001b[0m\u001b[0;34m,\u001b[0m \u001b[0mchunk_size\u001b[0m\u001b[0;34m=\u001b[0m\u001b[0;36m15\u001b[0m\u001b[0;34m,\u001b[0m \u001b[0mappend_mode\u001b[0m\u001b[0;34m=\u001b[0m\u001b[0;32mTrue\u001b[0m\u001b[0;34m,\u001b[0m \u001b[0msave_location\u001b[0m\u001b[0;34m=\u001b[0m\u001b[0moutput_csv\u001b[0m\u001b[0;34m)\u001b[0m\u001b[0;34m\u001b[0m\u001b[0;34m\u001b[0m\u001b[0m\n\u001b[0m",
      "\u001b[0;32m~/toi_archive/toidisplay.py\u001b[0m in \u001b[0;36mdisplay_requested_articles\u001b[0;34m(display_list, linked_function, chunk_size, append_mode, save_location)\u001b[0m\n\u001b[1;32m    160\u001b[0m \u001b[0;32mdef\u001b[0m \u001b[0mdisplay_requested_articles\u001b[0m\u001b[0;34m(\u001b[0m\u001b[0mdisplay_list\u001b[0m\u001b[0;34m=\u001b[0m\u001b[0;32mNone\u001b[0m\u001b[0;34m,\u001b[0m \u001b[0mlinked_function\u001b[0m\u001b[0;34m=\u001b[0m\u001b[0;32mNone\u001b[0m\u001b[0;34m,\u001b[0m \u001b[0mchunk_size\u001b[0m\u001b[0;34m=\u001b[0m\u001b[0;36m15\u001b[0m\u001b[0;34m,\u001b[0m \u001b[0mappend_mode\u001b[0m\u001b[0;34m=\u001b[0m\u001b[0;32mTrue\u001b[0m\u001b[0;34m,\u001b[0m \u001b[0msave_location\u001b[0m\u001b[0;34m=\u001b[0m\u001b[0;34m'article_output.csv'\u001b[0m\u001b[0;34m)\u001b[0m\u001b[0;34m:\u001b[0m\u001b[0;34m\u001b[0m\u001b[0;34m\u001b[0m\u001b[0m\n\u001b[1;32m    161\u001b[0m \u001b[0;34m\u001b[0m\u001b[0m\n\u001b[0;32m--> 162\u001b[0;31m     \u001b[0mTOI_METADATA\u001b[0m \u001b[0;34m=\u001b[0m \u001b[0mload_metadata\u001b[0m\u001b[0;34m(\u001b[0m\u001b[0;34m)\u001b[0m\u001b[0;34m\u001b[0m\u001b[0;34m\u001b[0m\u001b[0m\n\u001b[0m\u001b[1;32m    163\u001b[0m \u001b[0;34m\u001b[0m\u001b[0m\n\u001b[1;32m    164\u001b[0m     \u001b[0;32mif\u001b[0m \u001b[0mdisplay_list\u001b[0m \u001b[0;34m==\u001b[0m \u001b[0;32mNone\u001b[0m\u001b[0;34m:\u001b[0m\u001b[0;34m\u001b[0m\u001b[0;34m\u001b[0m\u001b[0m\n",
      "\u001b[0;32m~/toi_archive/toidisplay.py\u001b[0m in \u001b[0;36mload_metadata\u001b[0;34m()\u001b[0m\n\u001b[1;32m    222\u001b[0m                                                  \u001b[0mengine\u001b[0m\u001b[0;34m=\u001b[0m\u001b[0;34m'c'\u001b[0m\u001b[0;34m,\u001b[0m\u001b[0;34m\u001b[0m\u001b[0;34m\u001b[0m\u001b[0m\n\u001b[1;32m    223\u001b[0m                                                  chunksize=7240),\n\u001b[0;32m--> 224\u001b[0;31m                                      total=1000):\n\u001b[0m\u001b[1;32m    225\u001b[0m                     \u001b[0mdf_list\u001b[0m\u001b[0;34m.\u001b[0m\u001b[0mappend\u001b[0m\u001b[0;34m(\u001b[0m\u001b[0mdf_chunk\u001b[0m\u001b[0;34m)\u001b[0m\u001b[0;34m\u001b[0m\u001b[0;34m\u001b[0m\u001b[0m\n\u001b[1;32m    226\u001b[0m         \u001b[0mTOI_METADATA\u001b[0m \u001b[0;34m=\u001b[0m \u001b[0mpd\u001b[0m\u001b[0;34m.\u001b[0m\u001b[0mconcat\u001b[0m\u001b[0;34m(\u001b[0m\u001b[0mdf_list\u001b[0m\u001b[0;34m)\u001b[0m\u001b[0;34m\u001b[0m\u001b[0;34m\u001b[0m\u001b[0m\n",
      "\u001b[0;32m~/.conda/envs/repertoire-t/lib/python3.7/site-packages/tqdm/notebook.py\u001b[0m in \u001b[0;36m__iter__\u001b[0;34m(self, *args, **kwargs)\u001b[0m\n\u001b[1;32m    216\u001b[0m     \u001b[0;32mdef\u001b[0m \u001b[0m__iter__\u001b[0m\u001b[0;34m(\u001b[0m\u001b[0mself\u001b[0m\u001b[0;34m,\u001b[0m \u001b[0;34m*\u001b[0m\u001b[0margs\u001b[0m\u001b[0;34m,\u001b[0m \u001b[0;34m**\u001b[0m\u001b[0mkwargs\u001b[0m\u001b[0;34m)\u001b[0m\u001b[0;34m:\u001b[0m\u001b[0;34m\u001b[0m\u001b[0;34m\u001b[0m\u001b[0m\n\u001b[1;32m    217\u001b[0m         \u001b[0;32mtry\u001b[0m\u001b[0;34m:\u001b[0m\u001b[0;34m\u001b[0m\u001b[0;34m\u001b[0m\u001b[0m\n\u001b[0;32m--> 218\u001b[0;31m             \u001b[0;32mfor\u001b[0m \u001b[0mobj\u001b[0m \u001b[0;32min\u001b[0m \u001b[0msuper\u001b[0m\u001b[0;34m(\u001b[0m\u001b[0mtqdm_notebook\u001b[0m\u001b[0;34m,\u001b[0m \u001b[0mself\u001b[0m\u001b[0;34m)\u001b[0m\u001b[0;34m.\u001b[0m\u001b[0m__iter__\u001b[0m\u001b[0;34m(\u001b[0m\u001b[0;34m*\u001b[0m\u001b[0margs\u001b[0m\u001b[0;34m,\u001b[0m \u001b[0;34m**\u001b[0m\u001b[0mkwargs\u001b[0m\u001b[0;34m)\u001b[0m\u001b[0;34m:\u001b[0m\u001b[0;34m\u001b[0m\u001b[0;34m\u001b[0m\u001b[0m\n\u001b[0m\u001b[1;32m    219\u001b[0m                 \u001b[0;31m# return super(tqdm...) will not catch exception\u001b[0m\u001b[0;34m\u001b[0m\u001b[0;34m\u001b[0m\u001b[0;34m\u001b[0m\u001b[0m\n\u001b[1;32m    220\u001b[0m                 \u001b[0;32myield\u001b[0m \u001b[0mobj\u001b[0m\u001b[0;34m\u001b[0m\u001b[0;34m\u001b[0m\u001b[0m\n",
      "\u001b[0;32m~/.conda/envs/repertoire-t/lib/python3.7/site-packages/tqdm/std.py\u001b[0m in \u001b[0;36m__iter__\u001b[0;34m(self)\u001b[0m\n\u001b[1;32m   1127\u001b[0m \u001b[0;34m\u001b[0m\u001b[0m\n\u001b[1;32m   1128\u001b[0m         \u001b[0;32mtry\u001b[0m\u001b[0;34m:\u001b[0m\u001b[0;34m\u001b[0m\u001b[0;34m\u001b[0m\u001b[0m\n\u001b[0;32m-> 1129\u001b[0;31m             \u001b[0;32mfor\u001b[0m \u001b[0mobj\u001b[0m \u001b[0;32min\u001b[0m \u001b[0miterable\u001b[0m\u001b[0;34m:\u001b[0m\u001b[0;34m\u001b[0m\u001b[0;34m\u001b[0m\u001b[0m\n\u001b[0m\u001b[1;32m   1130\u001b[0m                 \u001b[0;32myield\u001b[0m \u001b[0mobj\u001b[0m\u001b[0;34m\u001b[0m\u001b[0;34m\u001b[0m\u001b[0m\n\u001b[1;32m   1131\u001b[0m                 \u001b[0;31m# Update and possibly print the progressbar.\u001b[0m\u001b[0;34m\u001b[0m\u001b[0;34m\u001b[0m\u001b[0;34m\u001b[0m\u001b[0m\n",
      "\u001b[0;32m~/.conda/envs/repertoire-t/lib/python3.7/site-packages/pandas/io/parsers.py\u001b[0m in \u001b[0;36m__next__\u001b[0;34m(self)\u001b[0m\n\u001b[1;32m   1105\u001b[0m     \u001b[0;32mdef\u001b[0m \u001b[0m__next__\u001b[0m\u001b[0;34m(\u001b[0m\u001b[0mself\u001b[0m\u001b[0;34m)\u001b[0m\u001b[0;34m:\u001b[0m\u001b[0;34m\u001b[0m\u001b[0;34m\u001b[0m\u001b[0m\n\u001b[1;32m   1106\u001b[0m         \u001b[0;32mtry\u001b[0m\u001b[0;34m:\u001b[0m\u001b[0;34m\u001b[0m\u001b[0;34m\u001b[0m\u001b[0m\n\u001b[0;32m-> 1107\u001b[0;31m             \u001b[0;32mreturn\u001b[0m \u001b[0mself\u001b[0m\u001b[0;34m.\u001b[0m\u001b[0mget_chunk\u001b[0m\u001b[0;34m(\u001b[0m\u001b[0;34m)\u001b[0m\u001b[0;34m\u001b[0m\u001b[0;34m\u001b[0m\u001b[0m\n\u001b[0m\u001b[1;32m   1108\u001b[0m         \u001b[0;32mexcept\u001b[0m \u001b[0mStopIteration\u001b[0m\u001b[0;34m:\u001b[0m\u001b[0;34m\u001b[0m\u001b[0;34m\u001b[0m\u001b[0m\n\u001b[1;32m   1109\u001b[0m             \u001b[0mself\u001b[0m\u001b[0;34m.\u001b[0m\u001b[0mclose\u001b[0m\u001b[0;34m(\u001b[0m\u001b[0;34m)\u001b[0m\u001b[0;34m\u001b[0m\u001b[0;34m\u001b[0m\u001b[0m\n",
      "\u001b[0;32m~/.conda/envs/repertoire-t/lib/python3.7/site-packages/pandas/io/parsers.py\u001b[0m in \u001b[0;36mget_chunk\u001b[0;34m(self, size)\u001b[0m\n\u001b[1;32m   1165\u001b[0m                 \u001b[0;32mraise\u001b[0m \u001b[0mStopIteration\u001b[0m\u001b[0;34m\u001b[0m\u001b[0;34m\u001b[0m\u001b[0m\n\u001b[1;32m   1166\u001b[0m             \u001b[0msize\u001b[0m \u001b[0;34m=\u001b[0m \u001b[0mmin\u001b[0m\u001b[0;34m(\u001b[0m\u001b[0msize\u001b[0m\u001b[0;34m,\u001b[0m \u001b[0mself\u001b[0m\u001b[0;34m.\u001b[0m\u001b[0mnrows\u001b[0m \u001b[0;34m-\u001b[0m \u001b[0mself\u001b[0m\u001b[0;34m.\u001b[0m\u001b[0m_currow\u001b[0m\u001b[0;34m)\u001b[0m\u001b[0;34m\u001b[0m\u001b[0;34m\u001b[0m\u001b[0m\n\u001b[0;32m-> 1167\u001b[0;31m         \u001b[0;32mreturn\u001b[0m \u001b[0mself\u001b[0m\u001b[0;34m.\u001b[0m\u001b[0mread\u001b[0m\u001b[0;34m(\u001b[0m\u001b[0mnrows\u001b[0m\u001b[0;34m=\u001b[0m\u001b[0msize\u001b[0m\u001b[0;34m)\u001b[0m\u001b[0;34m\u001b[0m\u001b[0;34m\u001b[0m\u001b[0m\n\u001b[0m\u001b[1;32m   1168\u001b[0m \u001b[0;34m\u001b[0m\u001b[0m\n\u001b[1;32m   1169\u001b[0m \u001b[0;34m\u001b[0m\u001b[0m\n",
      "\u001b[0;32m~/.conda/envs/repertoire-t/lib/python3.7/site-packages/pandas/io/parsers.py\u001b[0m in \u001b[0;36mread\u001b[0;34m(self, nrows)\u001b[0m\n\u001b[1;32m   1131\u001b[0m     \u001b[0;32mdef\u001b[0m \u001b[0mread\u001b[0m\u001b[0;34m(\u001b[0m\u001b[0mself\u001b[0m\u001b[0;34m,\u001b[0m \u001b[0mnrows\u001b[0m\u001b[0;34m=\u001b[0m\u001b[0;32mNone\u001b[0m\u001b[0;34m)\u001b[0m\u001b[0;34m:\u001b[0m\u001b[0;34m\u001b[0m\u001b[0;34m\u001b[0m\u001b[0m\n\u001b[1;32m   1132\u001b[0m         \u001b[0mnrows\u001b[0m \u001b[0;34m=\u001b[0m \u001b[0m_validate_integer\u001b[0m\u001b[0;34m(\u001b[0m\u001b[0;34m\"nrows\"\u001b[0m\u001b[0;34m,\u001b[0m \u001b[0mnrows\u001b[0m\u001b[0;34m)\u001b[0m\u001b[0;34m\u001b[0m\u001b[0;34m\u001b[0m\u001b[0m\n\u001b[0;32m-> 1133\u001b[0;31m         \u001b[0mret\u001b[0m \u001b[0;34m=\u001b[0m \u001b[0mself\u001b[0m\u001b[0;34m.\u001b[0m\u001b[0m_engine\u001b[0m\u001b[0;34m.\u001b[0m\u001b[0mread\u001b[0m\u001b[0;34m(\u001b[0m\u001b[0mnrows\u001b[0m\u001b[0;34m)\u001b[0m\u001b[0;34m\u001b[0m\u001b[0;34m\u001b[0m\u001b[0m\n\u001b[0m\u001b[1;32m   1134\u001b[0m \u001b[0;34m\u001b[0m\u001b[0m\n\u001b[1;32m   1135\u001b[0m         \u001b[0;31m# May alter columns / col_dict\u001b[0m\u001b[0;34m\u001b[0m\u001b[0;34m\u001b[0m\u001b[0;34m\u001b[0m\u001b[0m\n",
      "\u001b[0;32m~/.conda/envs/repertoire-t/lib/python3.7/site-packages/pandas/io/parsers.py\u001b[0m in \u001b[0;36mread\u001b[0;34m(self, nrows)\u001b[0m\n\u001b[1;32m   2035\u001b[0m     \u001b[0;32mdef\u001b[0m \u001b[0mread\u001b[0m\u001b[0;34m(\u001b[0m\u001b[0mself\u001b[0m\u001b[0;34m,\u001b[0m \u001b[0mnrows\u001b[0m\u001b[0;34m=\u001b[0m\u001b[0;32mNone\u001b[0m\u001b[0;34m)\u001b[0m\u001b[0;34m:\u001b[0m\u001b[0;34m\u001b[0m\u001b[0;34m\u001b[0m\u001b[0m\n\u001b[1;32m   2036\u001b[0m         \u001b[0;32mtry\u001b[0m\u001b[0;34m:\u001b[0m\u001b[0;34m\u001b[0m\u001b[0;34m\u001b[0m\u001b[0m\n\u001b[0;32m-> 2037\u001b[0;31m             \u001b[0mdata\u001b[0m \u001b[0;34m=\u001b[0m \u001b[0mself\u001b[0m\u001b[0;34m.\u001b[0m\u001b[0m_reader\u001b[0m\u001b[0;34m.\u001b[0m\u001b[0mread\u001b[0m\u001b[0;34m(\u001b[0m\u001b[0mnrows\u001b[0m\u001b[0;34m)\u001b[0m\u001b[0;34m\u001b[0m\u001b[0;34m\u001b[0m\u001b[0m\n\u001b[0m\u001b[1;32m   2038\u001b[0m         \u001b[0;32mexcept\u001b[0m \u001b[0mStopIteration\u001b[0m\u001b[0;34m:\u001b[0m\u001b[0;34m\u001b[0m\u001b[0;34m\u001b[0m\u001b[0m\n\u001b[1;32m   2039\u001b[0m             \u001b[0;32mif\u001b[0m \u001b[0mself\u001b[0m\u001b[0;34m.\u001b[0m\u001b[0m_first_chunk\u001b[0m\u001b[0;34m:\u001b[0m\u001b[0;34m\u001b[0m\u001b[0;34m\u001b[0m\u001b[0m\n",
      "\u001b[0;32mpandas/_libs/parsers.pyx\u001b[0m in \u001b[0;36mpandas._libs.parsers.TextReader.read\u001b[0;34m()\u001b[0m\n",
      "\u001b[0;32mpandas/_libs/parsers.pyx\u001b[0m in \u001b[0;36mpandas._libs.parsers.TextReader._read_low_memory\u001b[0;34m()\u001b[0m\n",
      "\u001b[0;32mpandas/_libs/parsers.pyx\u001b[0m in \u001b[0;36mpandas._libs.parsers.TextReader._read_rows\u001b[0;34m()\u001b[0m\n",
      "\u001b[0;32mpandas/_libs/parsers.pyx\u001b[0m in \u001b[0;36mpandas._libs.parsers.TextReader._convert_column_data\u001b[0;34m()\u001b[0m\n",
      "\u001b[0;32mpandas/_libs/parsers.pyx\u001b[0m in \u001b[0;36mpandas._libs.parsers.TextReader._convert_tokens\u001b[0;34m()\u001b[0m\n",
      "\u001b[0;32mpandas/_libs/parsers.pyx\u001b[0m in \u001b[0;36mpandas._libs.parsers.TextReader._convert_with_dtype\u001b[0;34m()\u001b[0m\n",
      "\u001b[0;32m~/.conda/envs/repertoire-t/lib/python3.7/site-packages/pandas/core/dtypes/common.py\u001b[0m in \u001b[0;36mis_categorical_dtype\u001b[0;34m(arr_or_dtype)\u001b[0m\n\u001b[1;32m    540\u001b[0m \u001b[0;34m\u001b[0m\u001b[0m\n\u001b[1;32m    541\u001b[0m \u001b[0;34m\u001b[0m\u001b[0m\n\u001b[0;32m--> 542\u001b[0;31m \u001b[0;32mdef\u001b[0m \u001b[0mis_categorical_dtype\u001b[0m\u001b[0;34m(\u001b[0m\u001b[0marr_or_dtype\u001b[0m\u001b[0;34m)\u001b[0m \u001b[0;34m->\u001b[0m \u001b[0mbool\u001b[0m\u001b[0;34m:\u001b[0m\u001b[0;34m\u001b[0m\u001b[0;34m\u001b[0m\u001b[0m\n\u001b[0m\u001b[1;32m    543\u001b[0m     \"\"\"\n\u001b[1;32m    544\u001b[0m     \u001b[0mCheck\u001b[0m \u001b[0mwhether\u001b[0m \u001b[0man\u001b[0m \u001b[0marray\u001b[0m\u001b[0;34m-\u001b[0m\u001b[0mlike\u001b[0m \u001b[0;32mor\u001b[0m \u001b[0mdtype\u001b[0m \u001b[0;32mis\u001b[0m \u001b[0mof\u001b[0m \u001b[0mthe\u001b[0m \u001b[0mCategorical\u001b[0m \u001b[0mdtype\u001b[0m\u001b[0;34m.\u001b[0m\u001b[0;34m\u001b[0m\u001b[0;34m\u001b[0m\u001b[0m\n",
      "\u001b[0;31mKeyboardInterrupt\u001b[0m: "
     ]
    }
   ],
   "source": [
    "display_requested_articles(display_list=input_list, linked_function=binary_categorize, chunk_size=15, append_mode=True, save_location=output_csv)"
   ]
  },
  {
   "cell_type": "code",
   "execution_count": 5,
   "metadata": {},
   "outputs": [
    {
     "name": "stdout",
     "output_type": "stream",
     "text": [
      "Loading TOI metadata...\n"
     ]
    },
    {
     "data": {
      "application/vnd.jupyter.widget-view+json": {
       "model_id": "e2f301d39a1f4fd69d9b37590dc8c1a3",
       "version_major": 2,
       "version_minor": 0
      },
      "text/plain": [
       "HBox(children=(FloatProgress(value=0.0, max=1000.0), HTML(value='')))"
      ]
     },
     "metadata": {},
     "output_type": "display_data"
    },
    {
     "name": "stdout",
     "output_type": "stream",
     "text": [
      "\n",
      "done \n",
      "\n"
     ]
    }
   ],
   "source": [
    "TOI_METADATA = load_metadata()"
   ]
  },
  {
   "cell_type": "code",
   "execution_count": 6,
   "metadata": {},
   "outputs": [],
   "source": [
    "md = TOI_METADATA"
   ]
  },
  {
   "cell_type": "code",
   "execution_count": 8,
   "metadata": {},
   "outputs": [
    {
     "data": {
      "text/html": [
       "<div>\n",
       "<style scoped>\n",
       "    .dataframe tbody tr th:only-of-type {\n",
       "        vertical-align: middle;\n",
       "    }\n",
       "\n",
       "    .dataframe tbody tr th {\n",
       "        vertical-align: top;\n",
       "    }\n",
       "\n",
       "    .dataframe thead th {\n",
       "        text-align: right;\n",
       "    }\n",
       "</style>\n",
       "<table border=\"1\" class=\"dataframe\">\n",
       "  <thead>\n",
       "    <tr style=\"text-align: right;\">\n",
       "      <th></th>\n",
       "      <th>headline</th>\n",
       "      <th>pub_date</th>\n",
       "      <th>start_page</th>\n",
       "      <th>url</th>\n",
       "      <th>zipped_xml_loc</th>\n",
       "      <th>txt_zip</th>\n",
       "      <th>txt_file</th>\n",
       "      <th>note</th>\n",
       "      <th>objecttypes</th>\n",
       "      <th>pdf_zip</th>\n",
       "      <th>pdf_file</th>\n",
       "    </tr>\n",
       "    <tr>\n",
       "      <th>record_id</th>\n",
       "      <th></th>\n",
       "      <th></th>\n",
       "      <th></th>\n",
       "      <th></th>\n",
       "      <th></th>\n",
       "      <th></th>\n",
       "      <th></th>\n",
       "      <th></th>\n",
       "      <th></th>\n",
       "      <th></th>\n",
       "      <th></th>\n",
       "    </tr>\n",
       "  </thead>\n",
       "  <tbody>\n",
       "    <tr>\n",
       "      <th>234435263</th>\n",
       "      <td>ANOTHER LANGWORTHY CASE</td>\n",
       "      <td>1888-02-21</td>\n",
       "      <td>7</td>\n",
       "      <td>http://search.proquest.com/docview/234435263/</td>\n",
       "      <td>../ZIP/TimesOfIndia_20170928210304_00017.zip/2...</td>\n",
       "      <td>1888.zip</td>\n",
       "      <td>234435263another_langworthy_case.txt</td>\n",
       "      <td>NaN</td>\n",
       "      <td>feature;article</td>\n",
       "      <td>NaN</td>\n",
       "      <td>NaN</td>\n",
       "    </tr>\n",
       "    <tr>\n",
       "      <th>234768826</th>\n",
       "      <td>Classified Ad 2 -- No Title</td>\n",
       "      <td>1908-12-05</td>\n",
       "      <td>1</td>\n",
       "      <td>http://search.proquest.com/docview/234768826/</td>\n",
       "      <td>../ZIP/TimesOfIndia_20170928210304_00017.zip/2...</td>\n",
       "      <td>1908.zip</td>\n",
       "      <td>234768826classified_ad_2__no_title.txt</td>\n",
       "      <td>NaN</td>\n",
       "      <td>classified advertisement;advertisement</td>\n",
       "      <td>NaN</td>\n",
       "      <td>NaN</td>\n",
       "    </tr>\n",
       "    <tr>\n",
       "      <th>234505162</th>\n",
       "      <td>Marriage Announcement 1 -- No Title</td>\n",
       "      <td>1888-02-21</td>\n",
       "      <td>4</td>\n",
       "      <td>http://search.proquest.com/docview/234505162/</td>\n",
       "      <td>../ZIP/TimesOfIndia_20170928210304_00017.zip/2...</td>\n",
       "      <td>1888.zip</td>\n",
       "      <td>234505162marriage_announcement_1__no_title.txt</td>\n",
       "      <td>NaN</td>\n",
       "      <td>news;marriage announcement</td>\n",
       "      <td>NaN</td>\n",
       "      <td>NaN</td>\n",
       "    </tr>\n",
       "    <tr>\n",
       "      <th>234861615</th>\n",
       "      <td>MUSLIMS IN BRITAIN</td>\n",
       "      <td>1908-12-05</td>\n",
       "      <td>10</td>\n",
       "      <td>http://search.proquest.com/docview/234861615/</td>\n",
       "      <td>../ZIP/TimesOfIndia_20170928210304_00017.zip/2...</td>\n",
       "      <td>1908.zip</td>\n",
       "      <td>234861615muslims_in_britain.txt</td>\n",
       "      <td>NaN</td>\n",
       "      <td>feature;article</td>\n",
       "      <td>NaN</td>\n",
       "      <td>NaN</td>\n",
       "    </tr>\n",
       "    <tr>\n",
       "      <th>234831894</th>\n",
       "      <td>BOMBAY HIGH COURT</td>\n",
       "      <td>1908-12-05</td>\n",
       "      <td>12</td>\n",
       "      <td>http://search.proquest.com/docview/234831894/</td>\n",
       "      <td>../ZIP/TimesOfIndia_20170928210304_00017.zip/2...</td>\n",
       "      <td>1908.zip</td>\n",
       "      <td>234831894bombay_high_court.txt</td>\n",
       "      <td>NaN</td>\n",
       "      <td>feature;article</td>\n",
       "      <td>NaN</td>\n",
       "      <td>NaN</td>\n",
       "    </tr>\n",
       "    <tr>\n",
       "      <th>...</th>\n",
       "      <td>...</td>\n",
       "      <td>...</td>\n",
       "      <td>...</td>\n",
       "      <td>...</td>\n",
       "      <td>...</td>\n",
       "      <td>...</td>\n",
       "      <td>...</td>\n",
       "      <td>...</td>\n",
       "      <td>...</td>\n",
       "      <td>...</td>\n",
       "      <td>...</td>\n",
       "    </tr>\n",
       "    <tr>\n",
       "      <th>848332528</th>\n",
       "      <td>Distant Dreams</td>\n",
       "      <td>1993-04-23</td>\n",
       "      <td>12</td>\n",
       "      <td>http://search.proquest.com/docview/848332528/</td>\n",
       "      <td>../ZIP/TimesOfIndia_20170928222400_00037.zip/8...</td>\n",
       "      <td>1993.zip</td>\n",
       "      <td>848332528distant_dreams.txt</td>\n",
       "      <td>NaN</td>\n",
       "      <td>letter to the editor;correspondence</td>\n",
       "      <td>NaN</td>\n",
       "      <td>NaN</td>\n",
       "    </tr>\n",
       "    <tr>\n",
       "      <th>1420235208</th>\n",
       "      <td>Other 30 -- No Title</td>\n",
       "      <td>2004-11-24</td>\n",
       "      <td>B1</td>\n",
       "      <td>http://search.proquest.com/docview/1420235208/</td>\n",
       "      <td>../ZIP/TimesOfIndia_20170928222400_00037.zip/1...</td>\n",
       "      <td>2004.zip</td>\n",
       "      <td>1420235208other_30__no_title.txt</td>\n",
       "      <td>NaN</td>\n",
       "      <td>general information</td>\n",
       "      <td>NaN</td>\n",
       "      <td>NaN</td>\n",
       "    </tr>\n",
       "    <tr>\n",
       "      <th>848331984</th>\n",
       "      <td>Masthead 4 -- No Title</td>\n",
       "      <td>1972-09-24</td>\n",
       "      <td>1</td>\n",
       "      <td>http://search.proquest.com/docview/848331984/</td>\n",
       "      <td>../ZIP/TimesOfIndia_20170928222400_00037.zip/8...</td>\n",
       "      <td>1972.zip</td>\n",
       "      <td>848331984masthead_4__no_title.txt</td>\n",
       "      <td>NaN</td>\n",
       "      <td>credit/acknowledgement</td>\n",
       "      <td>NaN</td>\n",
       "      <td>NaN</td>\n",
       "    </tr>\n",
       "    <tr>\n",
       "      <th>1656555777</th>\n",
       "      <td>Other 39 -- No Title</td>\n",
       "      <td>2006-06-21</td>\n",
       "      <td>B5</td>\n",
       "      <td>http://search.proquest.com/docview/1656555777/</td>\n",
       "      <td>../ZIP/TimesOfIndia_20170928222400_00037.zip/1...</td>\n",
       "      <td>2006.zip</td>\n",
       "      <td>1656555777other_39__no_title.txt</td>\n",
       "      <td>NaN</td>\n",
       "      <td>general information</td>\n",
       "      <td>NaN</td>\n",
       "      <td>NaN</td>\n",
       "    </tr>\n",
       "    <tr>\n",
       "      <th>1656556036</th>\n",
       "      <td>Table of Contents 3 -- No Title</td>\n",
       "      <td>2006-06-21</td>\n",
       "      <td>18</td>\n",
       "      <td>http://search.proquest.com/docview/1656556036/</td>\n",
       "      <td>../ZIP/TimesOfIndia_20170928222400_00037.zip/1...</td>\n",
       "      <td>2006.zip</td>\n",
       "      <td>1656556036table_of_contents_3__no_title.txt</td>\n",
       "      <td>NaN</td>\n",
       "      <td>front matter;table of contents</td>\n",
       "      <td>NaN</td>\n",
       "      <td>NaN</td>\n",
       "    </tr>\n",
       "  </tbody>\n",
       "</table>\n",
       "<p>33737 rows × 11 columns</p>\n",
       "</div>"
      ],
      "text/plain": [
       "                                       headline   pub_date start_page  \\\n",
       "record_id                                                               \n",
       "234435263               ANOTHER LANGWORTHY CASE 1888-02-21          7   \n",
       "234768826           Classified Ad 2 -- No Title 1908-12-05          1   \n",
       "234505162   Marriage Announcement 1 -- No Title 1888-02-21          4   \n",
       "234861615                    MUSLIMS IN BRITAIN 1908-12-05         10   \n",
       "234831894                     BOMBAY HIGH COURT 1908-12-05         12   \n",
       "...                                         ...        ...        ...   \n",
       "848332528                        Distant Dreams 1993-04-23         12   \n",
       "1420235208                 Other 30 -- No Title 2004-11-24         B1   \n",
       "848331984                Masthead 4 -- No Title 1972-09-24          1   \n",
       "1656555777                 Other 39 -- No Title 2006-06-21         B5   \n",
       "1656556036      Table of Contents 3 -- No Title 2006-06-21         18   \n",
       "\n",
       "                                                       url  \\\n",
       "record_id                                                    \n",
       "234435263    http://search.proquest.com/docview/234435263/   \n",
       "234768826    http://search.proquest.com/docview/234768826/   \n",
       "234505162    http://search.proquest.com/docview/234505162/   \n",
       "234861615    http://search.proquest.com/docview/234861615/   \n",
       "234831894    http://search.proquest.com/docview/234831894/   \n",
       "...                                                    ...   \n",
       "848332528    http://search.proquest.com/docview/848332528/   \n",
       "1420235208  http://search.proquest.com/docview/1420235208/   \n",
       "848331984    http://search.proquest.com/docview/848331984/   \n",
       "1656555777  http://search.proquest.com/docview/1656555777/   \n",
       "1656556036  http://search.proquest.com/docview/1656556036/   \n",
       "\n",
       "                                               zipped_xml_loc   txt_zip  \\\n",
       "record_id                                                                 \n",
       "234435263   ../ZIP/TimesOfIndia_20170928210304_00017.zip/2...  1888.zip   \n",
       "234768826   ../ZIP/TimesOfIndia_20170928210304_00017.zip/2...  1908.zip   \n",
       "234505162   ../ZIP/TimesOfIndia_20170928210304_00017.zip/2...  1888.zip   \n",
       "234861615   ../ZIP/TimesOfIndia_20170928210304_00017.zip/2...  1908.zip   \n",
       "234831894   ../ZIP/TimesOfIndia_20170928210304_00017.zip/2...  1908.zip   \n",
       "...                                                       ...       ...   \n",
       "848332528   ../ZIP/TimesOfIndia_20170928222400_00037.zip/8...  1993.zip   \n",
       "1420235208  ../ZIP/TimesOfIndia_20170928222400_00037.zip/1...  2004.zip   \n",
       "848331984   ../ZIP/TimesOfIndia_20170928222400_00037.zip/8...  1972.zip   \n",
       "1656555777  ../ZIP/TimesOfIndia_20170928222400_00037.zip/1...  2006.zip   \n",
       "1656556036  ../ZIP/TimesOfIndia_20170928222400_00037.zip/1...  2006.zip   \n",
       "\n",
       "                                                  txt_file note  \\\n",
       "record_id                                                         \n",
       "234435263             234435263another_langworthy_case.txt  NaN   \n",
       "234768826           234768826classified_ad_2__no_title.txt  NaN   \n",
       "234505162   234505162marriage_announcement_1__no_title.txt  NaN   \n",
       "234861615                  234861615muslims_in_britain.txt  NaN   \n",
       "234831894                   234831894bombay_high_court.txt  NaN   \n",
       "...                                                    ...  ...   \n",
       "848332528                      848332528distant_dreams.txt  NaN   \n",
       "1420235208                1420235208other_30__no_title.txt  NaN   \n",
       "848331984                848331984masthead_4__no_title.txt  NaN   \n",
       "1656555777                1656555777other_39__no_title.txt  NaN   \n",
       "1656556036     1656556036table_of_contents_3__no_title.txt  NaN   \n",
       "\n",
       "                                       objecttypes pdf_zip pdf_file  \n",
       "record_id                                                            \n",
       "234435263                          feature;article     NaN      NaN  \n",
       "234768826   classified advertisement;advertisement     NaN      NaN  \n",
       "234505162               news;marriage announcement     NaN      NaN  \n",
       "234861615                          feature;article     NaN      NaN  \n",
       "234831894                          feature;article     NaN      NaN  \n",
       "...                                            ...     ...      ...  \n",
       "848332528      letter to the editor;correspondence     NaN      NaN  \n",
       "1420235208                     general information     NaN      NaN  \n",
       "848331984                   credit/acknowledgement     NaN      NaN  \n",
       "1656555777                     general information     NaN      NaN  \n",
       "1656556036          front matter;table of contents     NaN      NaN  \n",
       "\n",
       "[33737 rows x 11 columns]"
      ]
     },
     "execution_count": 8,
     "metadata": {},
     "output_type": "execute_result"
    }
   ],
   "source": [
    "md[md.pdf_zip.isnull()]"
   ]
  },
  {
   "cell_type": "code",
   "execution_count": null,
   "metadata": {},
   "outputs": [],
   "source": []
  }
 ],
 "metadata": {
  "kernelspec": {
   "display_name": "Python 3",
   "language": "python",
   "name": "python3"
  },
  "language_info": {
   "codemirror_mode": {
    "name": "ipython",
    "version": 3
   },
   "file_extension": ".py",
   "mimetype": "text/x-python",
   "name": "python",
   "nbconvert_exporter": "python",
   "pygments_lexer": "ipython3",
   "version": "3.7.7"
  }
 },
 "nbformat": 4,
 "nbformat_minor": 4
}
